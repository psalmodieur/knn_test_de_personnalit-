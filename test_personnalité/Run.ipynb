{
 "cells": [
  {
   "cell_type": "markdown",
   "metadata": {},
   "source": [
    "# Test De personnalité"
   ]
  },
  {
   "cell_type": "markdown",
   "metadata": {},
   "source": [
    "Comment réagissez-vous sous la pression ?"
   ]
  },
  {
   "cell_type": "raw",
   "metadata": {},
   "source": [
    "Choisissez parmi les trois alternatives possibles, celle qui, personnellement, répond le mieux à la question ou à l’affirmation présentée dans l’énoncé."
   ]
  },
  {
   "cell_type": "code",
   "execution_count": 17,
   "metadata": {},
   "outputs": [
    {
     "name": "stdout",
     "output_type": "stream",
     "text": [
      "Question 1 :\n",
      "Quelle importance accordez-vous au succès ?\n",
      "\n",
      "(a)Une importance moyenne.\n",
      "(b)Une très grande importance.\n",
      "(c)Le succès ne me préoccupe pas beaucoup.\n",
      "a\n",
      "\n",
      "Question 2 :\n",
      "Vous est-il déjà arrivé de prendre des jours de congé parce que vous étiez stressé(e) ?\n",
      "\n",
      "(a)Une ou deux fois.\n",
      "(b)Plus de deux fois.\n",
      "(c)Jamais.\n",
      "a\n",
      "\n",
      "Question 3 :\n",
      "Vous considère-t-on comme une personne sachant conserver son sang froid en période de crise ?\n",
      "\n",
      "(a)Parfois, mais ceux qui arrivent à garder la tête froide en période de crise n’ont généralement pas saisi la gravité de la situation.\n",
      "(b)Pas vraiment.\n",
      "(c)Oui, je pense être à juste titre perçu(e) ainsi.\n",
      "a\n",
      "\n",
      "Question 4 :\n",
      "Parmi les propositions suivantes, laquelle est la plus à même de vous détendre et de réduire votre stress après une journée particulièrement éprouvante ?\n",
      "\n",
      "(a)Quelques heures de sommeil dans ma chaise longue préférée.\n",
      "(b)Une bonne rasade de whiskey ou d’un autre alcool.\n",
      "(c)Une barre chocolatée.\n",
      "a\n",
      "\n",
      "Question 5 :\n",
      "Les délais vous stimulent-ils ?\n",
      "\n",
      "(a)Non, mais les délais sont un mal nécessaire avec lequel il faut apprendre à vivre.\n",
      "(b)Non, les délais ont tendance à me stresser et je préfère travailler à mon rythme.Oui, je pense que je travaille mieux quand je suis sous pression.\n",
      "a\n",
      "\n",
      "Question 6 :\n",
      "Pensez-vous que la vie actuelle génère plus de stress qu’il y a 40 ans ?\n",
      "\n",
      "(1)Peut-être.\n",
      "(2)Oui.\n",
      "(3)Non.\n",
      "a\n",
      "\n",
      "Question 7 :\n",
      "Votre neveu vous demande de garder ses trois enfants un peu turbulents pendant le week-end en raison d’une crise familiale. Comment envisagez-vous cette situation ?\n",
      "\n",
      "(1)Cela m’inquiète terriblement.\n",
      "(2)L’idée de garder ces trois enfants me terrifie à un point tel que je chercherai probablement un moyen d’y échapper.\n",
      "(3)C’est un nouveau défi que je relèverai avec plaisir.\n",
      "a\n",
      "\n",
      "Question 8 :\n",
      "Le stress vous a-t-il déjà conduit(e) à endommager des choses ?\n",
      "\n",
      "(1)Non, je n’ai jamais rien fait de tel mais il m’est déjà arrivé de raccrocher brutalement le téléphone.\n",
      "(2)Oui.\n",
      "(3)Non.\n",
      "a\n",
      "\n",
      "Question 9 :\n",
      "Vous arrive-t-il d’être ennuyé(e) par des petits riens ?\n",
      "\n",
      "(1)Oui, parfois.\n",
      "(2)Assez souvent.\n",
      "(3)Rarement voire jamais.\n",
      "a\n",
      "\n",
      "Question 10 :\n",
      "Que ressentiriez-vous si vous deviez vous familiariser avec une nouvelle technologie ?\n",
      "\n",
      "(1)Rien de particulier. Si je devais me familiariser avec un nouvel outil de travail pour des raisons professionnelles, je m’adapterais sans difficulté.\n",
      "(2)Cela m’inquièterait un peu.\n",
      "(3)J’aime apprendre des choses nouvelles, je trouve cela très intéressant.\n",
      "a\n",
      "\n",
      "Votre Score est :  10 \n",
      "\n",
      "-----------------------------------------\n",
      "\n",
      "--------- Interprétation final ---------\n",
      "\n",
      "-----------------------------------------\n",
      "Score entre 11 et 14 : \n",
      "\n",
      "Même s’il vous arrive d’être tendu(e) et stressé(e) en certaines occasions, vous semblez donc capable de prendre soin de vous-même et de dire non aux requêtes déraisonnables.\n",
      "-----------------------------------------\n",
      "\n",
      "-----------------------------------------\n",
      "\n",
      "--------- Prédiction par KNN ---------\n",
      "\n",
      "-----------------------------------------\n",
      "KNN :  ['B']\n"
     ]
    }
   ],
   "source": [
    "%run Test.py"
   ]
  }
 ],
 "metadata": {
  "kernelspec": {
   "display_name": "Python 3",
   "language": "python",
   "name": "python3"
  },
  "language_info": {
   "codemirror_mode": {
    "name": "ipython",
    "version": 3
   },
   "file_extension": ".py",
   "mimetype": "text/x-python",
   "name": "python",
   "nbconvert_exporter": "python",
   "pygments_lexer": "ipython3",
   "version": "3.8.3"
  }
 },
 "nbformat": 4,
 "nbformat_minor": 5
}
